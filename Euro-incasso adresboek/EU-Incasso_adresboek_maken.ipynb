{
 "cells": [
  {
   "cell_type": "code",
   "execution_count": null,
   "metadata": {},
   "outputs": [],
   "source": [
    "import pandas as pd\n",
    "import numpy as np"
   ]
  },
  {
   "cell_type": "code",
   "execution_count": null,
   "metadata": {},
   "outputs": [],
   "source": [
    "adresboek = pd.read_csv('input\\\\Rabobank_Incasso_Adresboek_2018-05-09.csv', sep=';')"
   ]
  },
  {
   "cell_type": "code",
   "execution_count": null,
   "metadata": {},
   "outputs": [],
   "source": [
    "adresboek"
   ]
  },
  {
   "cell_type": "code",
   "execution_count": null,
   "metadata": {},
   "outputs": [],
   "source": [
    "adresboek.to_excel('output\\\\output.xlsx')"
   ]
  },
  {
   "cell_type": "code",
   "execution_count": null,
   "metadata": {
    "scrolled": true
   },
   "outputs": [],
   "source": [
    "ledenbestand = pd.read_excel('input\\\\ledenbestand.xlsx')\n",
    "l = ledenbestand\n",
    "# NaN's weg halen\n",
    "l = l.fillna('')\n",
    "l.head()"
   ]
  },
  {
   "cell_type": "code",
   "execution_count": null,
   "metadata": {},
   "outputs": [],
   "source": [
    "to_drop = l.columns.difference(['voornaam', 'achternaam', 'tussenvoegsel', 'IBAN', 'liddatum', 'lid status'])\n",
    "l.drop(to_drop, 1, inplace=True)  # drop alle columns behalve degene in to_drop\n",
    "l.head()"
   ]
  },
  {
   "cell_type": "code",
   "execution_count": null,
   "metadata": {},
   "outputs": [],
   "source": [
    "l['Naam betaler'] = l['voornaam']+' '+l['tussenvoegsel']+' '+l['achternaam']\n",
    "\n",
    "l.head()"
   ]
  },
  {
   "cell_type": "code",
   "execution_count": null,
   "metadata": {},
   "outputs": [],
   "source": [
    "l['liddatum'] = pd.to_datetime(l['liddatum'], format='%d%m%Y', errors='ignore') # Hoort niet zo te werken, maar haalt toch 00:00:00 weg.\n",
    "l['liddatum'] = l['liddatum'].dt.strftime('%d-%m-%Y')\n",
    "l.head()"
   ]
  },
  {
   "cell_type": "code",
   "execution_count": null,
   "metadata": {},
   "outputs": [],
   "source": [
    "# met de hand controleren of iban correct is en andere de persoon verwijderen.\n",
    "l = l[l.voornaam != ''] # De lege rows verwijderen, welke met de hand uit het input excel sheet zijn verwijderd"
   ]
  },
  {
   "cell_type": "code",
   "execution_count": null,
   "metadata": {},
   "outputs": [],
   "source": [
    "# Adresboek aanmaken\n",
    "a = adresboek\n",
    "a.drop(a.index, inplace=True)"
   ]
  },
  {
   "cell_type": "code",
   "execution_count": null,
   "metadata": {},
   "outputs": [],
   "source": [
    "# Gegevens van het ledenbestand in het adresboek zetten\n",
    "a['Naam betaler'] = l['Naam betaler']\n",
    "a['Rekeningnummer'] = l['IBAN']\n",
    "a['Bedrag'] = '10,00'\n",
    "a['Valuta'] = 'EUR'\n",
    "a['Categorie'] = l['lid status']\n",
    "a['Landcode betaler']  = 'NL'\n",
    "a['Omschrijving 1'] = 'Incasso ledenbijdrage Angstrom 1718'\n",
    "a['Type machtiging'] = 'Doorlopend'\n",
    "#a['Ondertekend op'] = l['liddatum'] # Uitgecomment want volgend rabobank: datum mag niet ouder zijn dan 01-11-2009\n",
    "a['Ondertekend op'] = '10-05-2018'\n",
    "a['Kenmerk machtiging'] = a.index.values # moet niet als eerste in deze code staan\n",
    "\n",
    "\n",
    "a.head()"
   ]
  },
  {
   "cell_type": "code",
   "execution_count": null,
   "metadata": {
    "scrolled": true
   },
   "outputs": [],
   "source": [
    "# Ereleden verwijderen, deze hoeven niet te betalen volgens de statuten\n",
    "a = a[a['Categorie'] != 'erelid']\n",
    "a.head()"
   ]
  },
  {
   "cell_type": "code",
   "execution_count": null,
   "metadata": {},
   "outputs": [],
   "source": [
    "a.to_csv('output\\\\Rabobank_Incasso_Adresboek.csv', sep=';', index=False)\n",
    "a.to_excel('output\\\\Rabobank_Incasso_Adresboek.xlsx', index=False)"
   ]
  }
 ],
 "metadata": {
  "kernelspec": {
   "display_name": "Python 3",
   "language": "python",
   "name": "python3"
  },
  "language_info": {
   "codemirror_mode": {
    "name": "ipython",
    "version": 3
   },
   "file_extension": ".py",
   "mimetype": "text/x-python",
   "name": "python",
   "nbconvert_exporter": "python",
   "pygments_lexer": "ipython3",
   "version": "3.6.0"
  }
 },
 "nbformat": 4,
 "nbformat_minor": 2
}
